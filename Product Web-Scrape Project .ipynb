{
 "cells": [
  {
   "cell_type": "code",
   "execution_count": null,
   "id": "b81a9afb",
   "metadata": {},
   "outputs": [],
   "source": [
    "#Import necessary libraries\n",
    "\n",
    "from bs4 import BeautifulSoup\n",
    "import requests\n",
    "import smtplib\n",
    "import time\n",
    "import datetime\n"
   ]
  },
  {
   "cell_type": "code",
   "execution_count": 141,
   "id": "d826f89c",
   "metadata": {},
   "outputs": [
    {
     "name": "stdout",
     "output_type": "stream",
     "text": [
      "\n",
      "         The True Cream Aqua Bomb\n",
      "        \n",
      "$38.00\n"
     ]
    }
   ],
   "source": [
    "#Connect to URL\n",
    "\n",
    "URL = 'https://www.sephora.com/product/the-true-cream-aqua-bomb-P394639?skuId=1686427&icid2=products%20grid:p394639:product'\n",
    "\n",
    "headers = {\"User-Agent\": \"Mozilla/5.0 (Macintosh; Intel Mac OS X 10_15_7) AppleWebKit/537.36 (KHTML, like Gecko) Chrome/109.0.0.0 Safari/537.36\"}\n",
    "\n",
    "page = requests.get(URL, headers=headers, cookies={'__hs_opt_out': 'no'})\n",
    "\n",
    "soup1 = BeautifulSoup(page.content, \"html.parser\")\n",
    "\n",
    "soup2 = BeautifulSoup(soup1.prettify(), \"html.parser\")\n",
    "\n",
    "#Scrape title and price from page\n",
    "\n",
    "title = soup2.find('span', {'data-at':\"product_name\"}).get_text()\n",
    "\n",
    "price = soup2.find('b', {'class':\"css-0\"}).text.strip()\n",
    "\n",
    "\n",
    "print(title)\n",
    "print(price)"
   ]
  },
  {
   "cell_type": "code",
   "execution_count": 142,
   "id": "ebd916fe",
   "metadata": {},
   "outputs": [
    {
     "name": "stdout",
     "output_type": "stream",
     "text": [
      "38.00\n",
      "The True Cream Aqua Bomb\n"
     ]
    }
   ],
   "source": [
    "#Clear spacing between text\n",
    "\n",
    "price = price.strip()[1:]\n",
    "title = title.strip()\n",
    "\n",
    "print(price)\n",
    "print(title)"
   ]
  },
  {
   "cell_type": "code",
   "execution_count": null,
   "id": "c2d0dded",
   "metadata": {},
   "outputs": [],
   "source": [
    "#Import datetime and create 'today' variable\n",
    "\n",
    "import datetime\n",
    "\n",
    "today = datetime.date.today()\n",
    "\n",
    "print(today)"
   ]
  },
  {
   "cell_type": "code",
   "execution_count": 143,
   "id": "3a3a91d6",
   "metadata": {},
   "outputs": [],
   "source": [
    "# Create CSV with necessary headers\n",
    "\n",
    "import csv\n",
    "\n",
    "\n",
    "header = ['Title', 'Price', 'Date']\n",
    "data = [title, price, today]\n",
    "\n",
    "\n",
    "with open('AmazonWebScraping.csv', 'w', newline='', encoding='UTF8') as f:\n",
    "    writer = csv.writer(f)\n",
    "    writer.writerow(header)\n",
    "    writer.writerow(data)\n",
    "    "
   ]
  },
  {
   "cell_type": "code",
   "execution_count": 144,
   "id": "8b6bdd5d",
   "metadata": {},
   "outputs": [
    {
     "name": "stdout",
     "output_type": "stream",
     "text": [
      "                      Title  Price        Date\n",
      "0  The True Cream Aqua Bomb   38.0  2023-02-27\n"
     ]
    }
   ],
   "source": [
    "import pandas as pd\n",
    "\n",
    "df = pd.read_csv(r'/users/jk/AmazonWebScraping.csv')\n",
    "\n",
    "print(df)"
   ]
  },
  {
   "cell_type": "code",
   "execution_count": 118,
   "id": "b448521d",
   "metadata": {},
   "outputs": [],
   "source": [
    "# Append data to csv\n",
    "\n",
    "with open('AmazonWebScraping.csv', 'a+', newline='', encoding='UTF8') as f:\n",
    "    writer = csv.writer(f)\n",
    "    writer.writerow(data)\n",
    "\n",
    "if(float(price) < 30):\n",
    "    send_mail()"
   ]
  },
  {
   "cell_type": "code",
   "execution_count": 145,
   "id": "1a730826",
   "metadata": {},
   "outputs": [],
   "source": [
    "#Combine code into one function\n",
    "\n",
    "def check_price():\n",
    "    URL = 'https://www.sephora.com/product/the-true-cream-aqua-bomb-P394639?skuId=1686427&icid2=products%20grid:p394639:product'\n",
    "\n",
    "    headers = {\"User-Agent\": \"Mozilla/5.0 (Macintosh; Intel Mac OS X 10_15_7) AppleWebKit/537.36 (KHTML, like Gecko) Chrome/109.0.0.0 Safari/537.36\"}\n",
    "\n",
    "    page = requests.get(URL, headers=headers, cookies={'__hs_opt_out': 'no'})\n",
    "\n",
    "    soup1 = BeautifulSoup(page.content, \"html.parser\")\n",
    "\n",
    "    soup2 = BeautifulSoup(soup1.prettify(), \"html.parser\")\n",
    "    \n",
    "    title = soup2.find('span', {'data-at':\"product_name\"}).get_text()\n",
    "\n",
    "    price = soup2.find('b', {'class':\"css-0\"}).text.strip()\n",
    "    \n",
    "    price = price.strip()[1:]\n",
    "    title = title.strip()\n",
    "    \n",
    "    import datetime\n",
    "    today = datetime.date.today()\n",
    "    \n",
    "    import csv\n",
    "    \n",
    "    header = ['Title', 'Price', 'Date']\n",
    "    data = [title, price, today]\n",
    "    \n",
    "    with open('AmazonWebScraping.csv', 'a+', newline='', encoding='UTF8') as f:\n",
    "        writer = csv.writer(f)\n",
    "        writer.writerow(data)\n",
    "    \n",
    "    if(float(price) < 30):\n",
    "        send_mail()"
   ]
  },
  {
   "cell_type": "code",
   "execution_count": null,
   "id": "e5bc57fe",
   "metadata": {},
   "outputs": [],
   "source": [
    "#Automically run check_price after sleep timer runs out \n",
    "\n",
    "while(True):\n",
    "    check_price()\n",
    "    time.sleep(3600)"
   ]
  },
  {
   "cell_type": "code",
   "execution_count": null,
   "id": "8a87364c",
   "metadata": {},
   "outputs": [],
   "source": [
    "import pandas as pd\n",
    "\n",
    "df = pd.read_csv(r'/users/jk/AmazonWebScraping.csv')\n",
    "\n",
    "#print(df)"
   ]
  },
  {
   "cell_type": "code",
   "execution_count": 147,
   "id": "437b2aa1",
   "metadata": {},
   "outputs": [],
   "source": [
    "#Automatically send an email if price falls below parameter \n",
    "\n",
    "def send_mail():\n",
    "    server = smtplib.SMTP_SSL('smtp.gmail.com', 465)\n",
    "    server.ehlo()\n",
    "    #server.starttls()\n",
    "    server.ehlo()\n",
    "    server.login('Jamal.Khidir@gmail.com','bajlpagylzefmmbx')\n",
    "    \n",
    "    subject = \"Belif Aqua Bomb Mosturizer is on sale on Amazon!\"\n",
    "    body = \"Jamal, your web scraper has detected your face mosturizer is on sale on Amazon! Consider buying it while it lasts. Link here: https://www.amazon.com/belif-Moisturizer-Combination-Hydration-Beauty/dp/B085JNJG9V/ref=sr_1_3?keywords=belif&qid=1677539392&sprefix=belif%2Caps%2C171&sr=8-3\"\n",
    "   \n",
    "    msg = f\"Subject: {subject}\\n\\n{body}\"\n",
    "    \n",
    "    server.sendmail(\n",
    "        'Jamal.Khidir@gmail.com',\n",
    "        'Jamal.Khidir@gmail.com',\n",
    "        msg\n",
    "     \n",
    "    )"
   ]
  },
  {
   "cell_type": "code",
   "execution_count": null,
   "id": "c385aea8",
   "metadata": {},
   "outputs": [],
   "source": []
  }
 ],
 "metadata": {
  "kernelspec": {
   "display_name": "Python 3 (ipykernel)",
   "language": "python",
   "name": "python3"
  },
  "language_info": {
   "codemirror_mode": {
    "name": "ipython",
    "version": 3
   },
   "file_extension": ".py",
   "mimetype": "text/x-python",
   "name": "python",
   "nbconvert_exporter": "python",
   "pygments_lexer": "ipython3",
   "version": "3.9.13"
  }
 },
 "nbformat": 4,
 "nbformat_minor": 5
}
